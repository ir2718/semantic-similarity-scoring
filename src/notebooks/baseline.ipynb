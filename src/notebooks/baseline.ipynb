{
 "cells": [
  {
   "cell_type": "code",
   "execution_count": 169,
   "id": "3f67edcb",
   "metadata": {},
   "outputs": [],
   "source": [
    "import spacy\n",
    "import pandas as pd\n",
    "import numpy as np\n",
    "from scipy.spatial.distance import cosine\n",
    "from scipy.stats import pearsonr, spearmanr\n",
    "from tqdm import tqdm\n",
    "from sklearn.linear_model import LinearRegression\n",
    "from sklearn.svm import SVR\n",
    "\n",
    "import os\n",
    "os.chdir('../scripts')\n",
    "from utils import _load_test_labels\n",
    "os.chdir('../notebooks')\n",
    "\n",
    "nlp = spacy.load('en_core_web_md')"
   ]
  },
  {
   "cell_type": "code",
   "execution_count": 170,
   "id": "799c0b66",
   "metadata": {},
   "outputs": [],
   "source": [
    "np.random.seed(42)"
   ]
  },
  {
   "cell_type": "code",
   "execution_count": 171,
   "id": "d5310cad",
   "metadata": {
    "scrolled": true
   },
   "outputs": [
    {
     "name": "stderr",
     "output_type": "stream",
     "text": [
      "Reusing dataset glue (C:\\Users\\Ivan\\.cache\\huggingface\\datasets\\glue\\stsb\\1.0.0\\dacbe3125aa31d7f70367a07a8a9e72a5a0bfeb5fc42e75c9db75b96da6053ad)\n"
     ]
    },
    {
     "data": {
      "application/vnd.jupyter.widget-view+json": {
       "model_id": "267db9ff1c534373b93effdd1ff6a3ef",
       "version_major": 2,
       "version_minor": 0
      },
      "text/plain": [
       "  0%|          | 0/3 [00:00<?, ?it/s]"
      ]
     },
     "metadata": {},
     "output_type": "display_data"
    }
   ],
   "source": [
    "from datasets import load_dataset\n",
    "dataset = load_dataset('glue', 'stsb')"
   ]
  },
  {
   "cell_type": "code",
   "execution_count": 172,
   "id": "fe2eb592",
   "metadata": {},
   "outputs": [],
   "source": [
    "test_labels = _load_test_labels('../dataset/stsb').to_pandas()"
   ]
  },
  {
   "cell_type": "code",
   "execution_count": 173,
   "id": "7540caef",
   "metadata": {},
   "outputs": [],
   "source": [
    "train_dataset = dataset['train'].to_pandas()\n",
    "validation_dataset = dataset['validation'].to_pandas()\n",
    "test_dataset = pd.concat([dataset['test'].to_pandas().drop(columns=['label']), test_labels], axis=1)"
   ]
  },
  {
   "cell_type": "code",
   "execution_count": 174,
   "id": "d17615b7",
   "metadata": {},
   "outputs": [
    {
     "data": {
      "text/html": [
       "<div>\n",
       "<style scoped>\n",
       "    .dataframe tbody tr th:only-of-type {\n",
       "        vertical-align: middle;\n",
       "    }\n",
       "\n",
       "    .dataframe tbody tr th {\n",
       "        vertical-align: top;\n",
       "    }\n",
       "\n",
       "    .dataframe thead th {\n",
       "        text-align: right;\n",
       "    }\n",
       "</style>\n",
       "<table border=\"1\" class=\"dataframe\">\n",
       "  <thead>\n",
       "    <tr style=\"text-align: right;\">\n",
       "      <th></th>\n",
       "      <th>sentence1</th>\n",
       "      <th>sentence2</th>\n",
       "      <th>idx</th>\n",
       "      <th>label</th>\n",
       "    </tr>\n",
       "  </thead>\n",
       "  <tbody>\n",
       "    <tr>\n",
       "      <th>0</th>\n",
       "      <td>A girl is styling her hair.</td>\n",
       "      <td>A girl is brushing her hair.</td>\n",
       "      <td>0</td>\n",
       "      <td>2.5</td>\n",
       "    </tr>\n",
       "    <tr>\n",
       "      <th>1</th>\n",
       "      <td>A group of men play soccer on the beach.</td>\n",
       "      <td>A group of boys are playing soccer on the beach.</td>\n",
       "      <td>1</td>\n",
       "      <td>3.6</td>\n",
       "    </tr>\n",
       "    <tr>\n",
       "      <th>2</th>\n",
       "      <td>One woman is measuring another woman's ankle.</td>\n",
       "      <td>A woman measures another woman's ankle.</td>\n",
       "      <td>2</td>\n",
       "      <td>5.0</td>\n",
       "    </tr>\n",
       "    <tr>\n",
       "      <th>3</th>\n",
       "      <td>A man is cutting up a cucumber.</td>\n",
       "      <td>A man is slicing a cucumber.</td>\n",
       "      <td>3</td>\n",
       "      <td>4.2</td>\n",
       "    </tr>\n",
       "    <tr>\n",
       "      <th>4</th>\n",
       "      <td>A man is playing a harp.</td>\n",
       "      <td>A man is playing a keyboard.</td>\n",
       "      <td>4</td>\n",
       "      <td>1.5</td>\n",
       "    </tr>\n",
       "    <tr>\n",
       "      <th>...</th>\n",
       "      <td>...</td>\n",
       "      <td>...</td>\n",
       "      <td>...</td>\n",
       "      <td>...</td>\n",
       "    </tr>\n",
       "    <tr>\n",
       "      <th>1374</th>\n",
       "      <td>Philippines, Canada pledge to further boost re...</td>\n",
       "      <td>Philippines saves 100 after ferry sinks</td>\n",
       "      <td>1374</td>\n",
       "      <td>0.0</td>\n",
       "    </tr>\n",
       "    <tr>\n",
       "      <th>1375</th>\n",
       "      <td>Israel bars Palestinians from Jerusalem's Old ...</td>\n",
       "      <td>Two-state solution between Palestinians, Israe...</td>\n",
       "      <td>1375</td>\n",
       "      <td>1.0</td>\n",
       "    </tr>\n",
       "    <tr>\n",
       "      <th>1376</th>\n",
       "      <td>How much do you know about Secret Service?</td>\n",
       "      <td>Lawmakers from both sides express outrage at S...</td>\n",
       "      <td>1376</td>\n",
       "      <td>1.0</td>\n",
       "    </tr>\n",
       "    <tr>\n",
       "      <th>1377</th>\n",
       "      <td>Obama Struggles to Soothe Saudi Fears As Iran ...</td>\n",
       "      <td>Myanmar Struggles to Finalize Voter Lists for ...</td>\n",
       "      <td>1377</td>\n",
       "      <td>0.0</td>\n",
       "    </tr>\n",
       "    <tr>\n",
       "      <th>1378</th>\n",
       "      <td>South Korea declares end to MERS outbreak</td>\n",
       "      <td>North Korea Delegation Meets With South Korean...</td>\n",
       "      <td>1378</td>\n",
       "      <td>0.0</td>\n",
       "    </tr>\n",
       "  </tbody>\n",
       "</table>\n",
       "<p>1379 rows × 4 columns</p>\n",
       "</div>"
      ],
      "text/plain": [
       "                                              sentence1  \\\n",
       "0                           A girl is styling her hair.   \n",
       "1              A group of men play soccer on the beach.   \n",
       "2         One woman is measuring another woman's ankle.   \n",
       "3                       A man is cutting up a cucumber.   \n",
       "4                              A man is playing a harp.   \n",
       "...                                                 ...   \n",
       "1374  Philippines, Canada pledge to further boost re...   \n",
       "1375  Israel bars Palestinians from Jerusalem's Old ...   \n",
       "1376         How much do you know about Secret Service?   \n",
       "1377  Obama Struggles to Soothe Saudi Fears As Iran ...   \n",
       "1378          South Korea declares end to MERS outbreak   \n",
       "\n",
       "                                              sentence2   idx  label  \n",
       "0                          A girl is brushing her hair.     0    2.5  \n",
       "1      A group of boys are playing soccer on the beach.     1    3.6  \n",
       "2               A woman measures another woman's ankle.     2    5.0  \n",
       "3                          A man is slicing a cucumber.     3    4.2  \n",
       "4                          A man is playing a keyboard.     4    1.5  \n",
       "...                                                 ...   ...    ...  \n",
       "1374            Philippines saves 100 after ferry sinks  1374    0.0  \n",
       "1375  Two-state solution between Palestinians, Israe...  1375    1.0  \n",
       "1376  Lawmakers from both sides express outrage at S...  1376    1.0  \n",
       "1377  Myanmar Struggles to Finalize Voter Lists for ...  1377    0.0  \n",
       "1378  North Korea Delegation Meets With South Korean...  1378    0.0  \n",
       "\n",
       "[1379 rows x 4 columns]"
      ]
     },
     "execution_count": 174,
     "metadata": {},
     "output_type": "execute_result"
    }
   ],
   "source": [
    "test_dataset"
   ]
  },
  {
   "cell_type": "code",
   "execution_count": 183,
   "id": "2c8d6957",
   "metadata": {},
   "outputs": [],
   "source": [
    "def cosine_similarity(vec1, vec2):\n",
    "    return 1 - cosine(vec1, vec2)\n",
    "\n",
    "def calculate_metrics(preds, labels):\n",
    "    return pearsonr(preds, labels)[0], spearmanr(preds, labels)[0] "
   ]
  },
  {
   "cell_type": "code",
   "execution_count": 176,
   "id": "a4db9d48",
   "metadata": {},
   "outputs": [
    {
     "name": "stdout",
     "output_type": "stream",
     "text": [
      "starting . . .\n",
      "train done\n",
      "validation done\n",
      "test done\n"
     ]
    }
   ],
   "source": [
    "lmbd = lambda x: nlp(x).vector\n",
    "\n",
    "def sentence_to_vector(df):\n",
    "    df['s1'] = df['sentence1'].map(lmbd)\n",
    "    df['s2'] = df['sentence2'].map(lmbd)\n",
    "    return df\n",
    "    \n",
    "print('starting . . .')\n",
    "\n",
    "train_dataset = sentence_to_vector(train_dataset)\n",
    "print('train done')\n",
    "\n",
    "validation_dataset = sentence_to_vector(validation_dataset)\n",
    "print('validation done')\n",
    "\n",
    "test_dataset = sentence_to_vector(test_dataset)\n",
    "print('test done')"
   ]
  },
  {
   "cell_type": "code",
   "execution_count": 177,
   "id": "48601264",
   "metadata": {},
   "outputs": [
    {
     "data": {
      "text/html": [
       "<div>\n",
       "<style scoped>\n",
       "    .dataframe tbody tr th:only-of-type {\n",
       "        vertical-align: middle;\n",
       "    }\n",
       "\n",
       "    .dataframe tbody tr th {\n",
       "        vertical-align: top;\n",
       "    }\n",
       "\n",
       "    .dataframe thead th {\n",
       "        text-align: right;\n",
       "    }\n",
       "</style>\n",
       "<table border=\"1\" class=\"dataframe\">\n",
       "  <thead>\n",
       "    <tr style=\"text-align: right;\">\n",
       "      <th></th>\n",
       "      <th>sentence1</th>\n",
       "      <th>sentence2</th>\n",
       "      <th>label</th>\n",
       "      <th>idx</th>\n",
       "      <th>s1</th>\n",
       "      <th>s2</th>\n",
       "    </tr>\n",
       "  </thead>\n",
       "  <tbody>\n",
       "    <tr>\n",
       "      <th>0</th>\n",
       "      <td>A plane is taking off.</td>\n",
       "      <td>An air plane is taking off.</td>\n",
       "      <td>5.00</td>\n",
       "      <td>0</td>\n",
       "      <td>[-0.64949167, 0.25910184, -0.2652065, 0.119720...</td>\n",
       "      <td>[-0.70603573, 0.31555298, -0.18804415, 0.14615...</td>\n",
       "    </tr>\n",
       "    <tr>\n",
       "      <th>1</th>\n",
       "      <td>A man is playing a large flute.</td>\n",
       "      <td>A man is playing a flute.</td>\n",
       "      <td>3.80</td>\n",
       "      <td>1</td>\n",
       "      <td>[-0.65641505, 0.21840176, -0.20840888, 0.11604...</td>\n",
       "      <td>[-0.6445843, 0.25401455, -0.27212444, 0.066589...</td>\n",
       "    </tr>\n",
       "    <tr>\n",
       "      <th>2</th>\n",
       "      <td>A man is spreading shreded cheese on a pizza.</td>\n",
       "      <td>A man is spreading shredded cheese on an uncoo...</td>\n",
       "      <td>3.80</td>\n",
       "      <td>2</td>\n",
       "      <td>[-0.639469, 0.0666718, -0.158637, 0.0064331084...</td>\n",
       "      <td>[-0.6415846, 0.21705894, -0.053920902, -0.0195...</td>\n",
       "    </tr>\n",
       "    <tr>\n",
       "      <th>3</th>\n",
       "      <td>Three men are playing chess.</td>\n",
       "      <td>Two men are playing chess.</td>\n",
       "      <td>2.60</td>\n",
       "      <td>3</td>\n",
       "      <td>[-0.6869133, 0.018628487, -0.25191548, -0.3019...</td>\n",
       "      <td>[-0.6869133, 0.018628487, -0.25191548, -0.3019...</td>\n",
       "    </tr>\n",
       "    <tr>\n",
       "      <th>4</th>\n",
       "      <td>A man is playing the cello.</td>\n",
       "      <td>A man seated is playing the cello.</td>\n",
       "      <td>4.25</td>\n",
       "      <td>4</td>\n",
       "      <td>[-0.6520457, 0.2612074, -0.24688442, 0.0471011...</td>\n",
       "      <td>[-0.6473375, 0.25767523, -0.25158888, 0.083552...</td>\n",
       "    </tr>\n",
       "  </tbody>\n",
       "</table>\n",
       "</div>"
      ],
      "text/plain": [
       "                                       sentence1  \\\n",
       "0                         A plane is taking off.   \n",
       "1                A man is playing a large flute.   \n",
       "2  A man is spreading shreded cheese on a pizza.   \n",
       "3                   Three men are playing chess.   \n",
       "4                    A man is playing the cello.   \n",
       "\n",
       "                                           sentence2  label  idx  \\\n",
       "0                        An air plane is taking off.   5.00    0   \n",
       "1                          A man is playing a flute.   3.80    1   \n",
       "2  A man is spreading shredded cheese on an uncoo...   3.80    2   \n",
       "3                         Two men are playing chess.   2.60    3   \n",
       "4                 A man seated is playing the cello.   4.25    4   \n",
       "\n",
       "                                                  s1  \\\n",
       "0  [-0.64949167, 0.25910184, -0.2652065, 0.119720...   \n",
       "1  [-0.65641505, 0.21840176, -0.20840888, 0.11604...   \n",
       "2  [-0.639469, 0.0666718, -0.158637, 0.0064331084...   \n",
       "3  [-0.6869133, 0.018628487, -0.25191548, -0.3019...   \n",
       "4  [-0.6520457, 0.2612074, -0.24688442, 0.0471011...   \n",
       "\n",
       "                                                  s2  \n",
       "0  [-0.70603573, 0.31555298, -0.18804415, 0.14615...  \n",
       "1  [-0.6445843, 0.25401455, -0.27212444, 0.066589...  \n",
       "2  [-0.6415846, 0.21705894, -0.053920902, -0.0195...  \n",
       "3  [-0.6869133, 0.018628487, -0.25191548, -0.3019...  \n",
       "4  [-0.6473375, 0.25767523, -0.25158888, 0.083552...  "
      ]
     },
     "execution_count": 177,
     "metadata": {},
     "output_type": "execute_result"
    }
   ],
   "source": [
    "train_dataset.head()"
   ]
  },
  {
   "cell_type": "code",
   "execution_count": 184,
   "id": "5773c49e",
   "metadata": {},
   "outputs": [
    {
     "name": "stdout",
     "output_type": "stream",
     "text": [
      "Train metrics:\n",
      "    Pearson: 0.4408617136534989\n",
      "   Spearman: 0.42489968238155024\n",
      "\n",
      "Validation metrics:\n",
      "    Pearson: 0.11863867399613848\n",
      "   Spearman: 0.11751661501175863\n",
      "\n",
      "Test metrics:\n",
      "    Pearson: 0.19445646782280276\n",
      "   Spearman: 0.1931984648666329\n",
      "\n"
     ]
    }
   ],
   "source": [
    "def fit_predict_and_metrics(train, validation, test, model_f):\n",
    "    model = model_f()\n",
    "    \n",
    "    def get_y_and_X(df):\n",
    "        features = []\n",
    "        for i, d in df.iterrows():\n",
    "            s1s2_np = np.concatenate((d['s1'], d['s2']))\n",
    "            features.append(s1s2_np)\n",
    "        features = np.array(features)\n",
    "        return df['label'].to_numpy(), features\n",
    "    \n",
    "    y_train, X_train = get_y_and_X(train) \n",
    "    model = model.fit(X_train, y_train)\n",
    "    y_train_hat = model.predict(X_train)\n",
    "    train_m = calculate_metrics(y_train_hat, y_train)\n",
    "    print(f'Train metrics:\\n    Pearson: {train_m[0]}\\n   Spearman: {train_m[1]}\\n')\n",
    "    \n",
    "    y_validation, X_validation = get_y_and_X(validation)\n",
    "    y_validation_hat = model.predict(X_validation)\n",
    "    validation_m = calculate_metrics(y_validation_hat, y_validation)\n",
    "    print(f'Validation metrics:\\n    Pearson: {validation_m[0]}\\n   Spearman: {validation_m[1]}\\n')\n",
    "\n",
    "    y_test, X_test = get_y_and_X(test)\n",
    "    y_test_hat = model.predict(X_test)\n",
    "    test_m = calculate_metrics(y_test_hat, y_test)\n",
    "    print(f'Test metrics:\\n    Pearson: {test_m[0]}\\n   Spearman: {test_m[1]}\\n')\n",
    "    \n",
    "fit_predict_and_metrics(train_dataset, validation_dataset, test_dataset, LinearRegression)"
   ]
  },
  {
   "cell_type": "code",
   "execution_count": 185,
   "id": "1793fa82",
   "metadata": {},
   "outputs": [
    {
     "name": "stdout",
     "output_type": "stream",
     "text": [
      "Train metrics:\n",
      "    Pearson: 0.5848223801553067\n",
      "   Spearman: 0.5759629014285772\n",
      "\n",
      "Validation metrics:\n",
      "    Pearson: 0.2577315339976817\n",
      "   Spearman: 0.2404171661281564\n",
      "\n",
      "Test metrics:\n",
      "    Pearson: 0.3303659360480432\n",
      "   Spearman: 0.3007688387322799\n",
      "\n"
     ]
    }
   ],
   "source": [
    "fit_predict_and_metrics(train_dataset, validation_dataset, test_dataset, SVR)"
   ]
  },
  {
   "cell_type": "code",
   "execution_count": 187,
   "id": "faa05b6b",
   "metadata": {},
   "outputs": [
    {
     "name": "stdout",
     "output_type": "stream",
     "text": [
      "Train metrics:\n",
      "    Pearson: 0.4597313293136578\n",
      "   Spearman: 0.4617373438229865\n",
      "\n",
      "Validation metrics:\n",
      "    Pearson: 0.4779523328801048\n",
      "   Spearman: 0.5401938415875591\n",
      "\n",
      "Test metrics:\n",
      "    Pearson: 0.36717146827816377\n",
      "   Spearman: 0.388169865695701\n",
      "\n"
     ]
    }
   ],
   "source": [
    "def calculate_similarities(df):\n",
    "    return np.array([cosine_similarity(df['s1'][i], df['s2'][i]) for i in range(df.shape[0])])\n",
    "\n",
    "train_similarities = calculate_similarities(train_dataset)*5\n",
    "train_m2 = calculate_metrics(train_similarities, train_dataset['label'].to_numpy())\n",
    "print(f'Train metrics:\\n    Pearson: {train_m2[0]}\\n   Spearman: {train_m2[1]}\\n')\n",
    "\n",
    "validation_similarities = calculate_similarities(validation_dataset)*5\n",
    "validation_m2 = calculate_metrics(validation_similarities, validation_dataset['label'].to_numpy())\n",
    "print(f'Validation metrics:\\n    Pearson: {validation_m2[0]}\\n   Spearman: {validation_m2[1]}\\n')\n",
    "\n",
    "test_similarities = calculate_similarities(test_dataset)*5\n",
    "test_m2 = calculate_metrics(test_similarities, test_dataset['label'].to_numpy())\n",
    "print(f'Test metrics:\\n    Pearson: {test_m2[0]}\\n   Spearman: {test_m2[1]}\\n')\n"
   ]
  }
 ],
 "metadata": {
  "kernelspec": {
   "display_name": "Python 3 (ipykernel)",
   "language": "python",
   "name": "python3"
  },
  "language_info": {
   "codemirror_mode": {
    "name": "ipython",
    "version": 3
   },
   "file_extension": ".py",
   "mimetype": "text/x-python",
   "name": "python",
   "nbconvert_exporter": "python",
   "pygments_lexer": "ipython3",
   "version": "3.9.12"
  }
 },
 "nbformat": 4,
 "nbformat_minor": 5
}
