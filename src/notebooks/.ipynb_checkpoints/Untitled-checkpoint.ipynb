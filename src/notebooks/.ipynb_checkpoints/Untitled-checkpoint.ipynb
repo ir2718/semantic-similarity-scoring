{
 "cells": [
  {
   "cell_type": "code",
   "execution_count": 61,
   "id": "3f67edcb",
   "metadata": {},
   "outputs": [],
   "source": [
    "import spacy\n",
    "import pandas as pd\n",
    "from scipy.spatial.distance import cosine\n",
    "from scipy.stats import pearsonr, spearmanr\n",
    "from tqdm import tqdm\n",
    "    \n",
    "nlp = spacy.load('en_core_web_md')"
   ]
  },
  {
   "cell_type": "code",
   "execution_count": 72,
   "id": "799c0b66",
   "metadata": {},
   "outputs": [],
   "source": [
    "np.random.seed(42)"
   ]
  },
  {
   "cell_type": "code",
   "execution_count": 33,
   "id": "d5310cad",
   "metadata": {},
   "outputs": [
    {
     "name": "stderr",
     "output_type": "stream",
     "text": [
      "Reusing dataset glue (C:\\Users\\Ivan\\.cache\\huggingface\\datasets\\glue\\stsb\\1.0.0\\dacbe3125aa31d7f70367a07a8a9e72a5a0bfeb5fc42e75c9db75b96da6053ad)\n"
     ]
    },
    {
     "data": {
      "application/vnd.jupyter.widget-view+json": {
       "model_id": "bc026d535ed249a2b03064c8ab3537e1",
       "version_major": 2,
       "version_minor": 0
      },
      "text/plain": [
       "  0%|          | 0/3 [00:00<?, ?it/s]"
      ]
     },
     "metadata": {},
     "output_type": "display_data"
    }
   ],
   "source": [
    "from datasets import load_dataset\n",
    "dataset = load_dataset('glue', 'stsb')"
   ]
  },
  {
   "cell_type": "code",
   "execution_count": 62,
   "id": "7540caef",
   "metadata": {},
   "outputs": [],
   "source": [
    "train_dataset = dataset['train'].to_pandas()\n",
    "test_dataset = dataset['test'].to_pandas()"
   ]
  },
  {
   "cell_type": "code",
   "execution_count": 77,
   "id": "2c8d6957",
   "metadata": {},
   "outputs": [],
   "source": [
    "def cosine_similarity(vec1, vec2):\n",
    "    return 1 - cosine(vec1, vec2)\n",
    "\n",
    "def calculate_metrics(sim, labels):\n",
    "    return pearsonr(sim, labels)[0], spearmanr(sim, labels)[0] \n",
    "\n",
    "def calculate_similarity_using_df(df):\n",
    "    sims = []\n",
    "    for s1, s2 in tqdm(zip(df['sentence1'], df['sentence2'])):\n",
    "        mean1 = nlp(s1).vector\n",
    "        mean2 = nlp(s2).vector\n",
    "        sims.append(cosine_similarity(mean1, mean2) * 5)\n",
    "    return calculate_metrics(sims, df['label'].to_numpy())"
   ]
  },
  {
   "cell_type": "code",
   "execution_count": 78,
   "id": "5773c49e",
   "metadata": {},
   "outputs": [
    {
     "name": "stderr",
     "output_type": "stream",
     "text": [
      "5749it [01:01, 93.33it/s] \n"
     ]
    },
    {
     "data": {
      "text/plain": [
       "(0.4597313293136578, 0.4617373438229865)"
      ]
     },
     "execution_count": 78,
     "metadata": {},
     "output_type": "execute_result"
    }
   ],
   "source": [
    "calculate_similarity_using_df(train_dataset)"
   ]
  }
 ],
 "metadata": {
  "kernelspec": {
   "display_name": "Python 3 (ipykernel)",
   "language": "python",
   "name": "python3"
  },
  "language_info": {
   "codemirror_mode": {
    "name": "ipython",
    "version": 3
   },
   "file_extension": ".py",
   "mimetype": "text/x-python",
   "name": "python",
   "nbconvert_exporter": "python",
   "pygments_lexer": "ipython3",
   "version": "3.9.12"
  }
 },
 "nbformat": 4,
 "nbformat_minor": 5
}
