{
 "cells": [
  {
   "cell_type": "code",
   "execution_count": 2,
   "id": "94cf5694",
   "metadata": {},
   "outputs": [],
   "source": [
    "import os\n",
    "os.chdir('../scripts')\n",
    "from utils import *\n",
    "os.chdir('../notebooks')\n",
    "import matplotlib.pyplot as plt\n",
    "from scipy.stats import kstest, permutation_test\n",
    "from dictances import bhattacharyya_coefficient"
   ]
  },
  {
   "cell_type": "code",
   "execution_count": 3,
   "id": "19e63119",
   "metadata": {},
   "outputs": [
    {
     "name": "stderr",
     "output_type": "stream",
     "text": [
      "Found cached dataset glue (C:/Users/Ivan/.cache/huggingface/datasets/glue/stsb/1.0.0/dacbe3125aa31d7f70367a07a8a9e72a5a0bfeb5fc42e75c9db75b96da6053ad)\n"
     ]
    },
    {
     "data": {
      "application/vnd.jupyter.widget-view+json": {
       "model_id": "c956c39a2c204eddbab03f2f99c275a7",
       "version_major": 2,
       "version_minor": 0
      },
      "text/plain": [
       "  0%|          | 0/3 [00:00<?, ?it/s]"
      ]
     },
     "metadata": {},
     "output_type": "display_data"
    }
   ],
   "source": [
    "seed = 42\n",
    "label_dir = '../dataset/stsb'\n",
    "\n",
    "dataset = load_dataset_from_huggingface(DATASET_PATH, CONFIG_NAME, label_dir)\n",
    "\n",
    "train_df, validation_df, test_df = dataset['train'].to_pandas(), dataset['validation'].to_pandas(), dataset['test'].to_pandas()"
   ]
  },
  {
   "cell_type": "code",
   "execution_count": 4,
   "id": "63b036a6",
   "metadata": {},
   "outputs": [],
   "source": [
    "train_labels = train_df['label'].values\n",
    "validation_labels = validation_df['label'].values\n",
    "test_labels = test_df['label'].values"
   ]
  },
  {
   "cell_type": "markdown",
   "id": "ffeb219d",
   "metadata": {},
   "source": [
    "### Kolmogorov Smirnov test"
   ]
  },
  {
   "cell_type": "code",
   "execution_count": 5,
   "id": "dc3309c9",
   "metadata": {},
   "outputs": [],
   "source": [
    "def test_all_splits(test):\n",
    "    train_val = test(train_labels, validation_labels)\n",
    "    val_test = test(validation_labels, test_labels)\n",
    "    train_test = test(train_labels, test_labels)\n",
    "    \n",
    "    df = pd.DataFrame.from_dict({\n",
    "        'statistic': [train_val.statistic, val_test.statistic, train_test.statistic],\n",
    "        'p_value': [train_val.pvalue, val_test.pvalue, train_test.pvalue]\n",
    "    })\n",
    "    df.index = ['train_val', 'val_test', 'train_test']\n",
    "    return df\n",
    "    \n",
    "df = test_all_splits(kstest)"
   ]
  },
  {
   "cell_type": "code",
   "execution_count": 6,
   "id": "3d8f01c3",
   "metadata": {},
   "outputs": [
    {
     "data": {
      "text/html": [
       "<div>\n",
       "<style scoped>\n",
       "    .dataframe tbody tr th:only-of-type {\n",
       "        vertical-align: middle;\n",
       "    }\n",
       "\n",
       "    .dataframe tbody tr th {\n",
       "        vertical-align: top;\n",
       "    }\n",
       "\n",
       "    .dataframe thead th {\n",
       "        text-align: right;\n",
       "    }\n",
       "</style>\n",
       "<table border=\"1\" class=\"dataframe\">\n",
       "  <thead>\n",
       "    <tr style=\"text-align: right;\">\n",
       "      <th></th>\n",
       "      <th>statistic</th>\n",
       "      <th>p_value</th>\n",
       "    </tr>\n",
       "  </thead>\n",
       "  <tbody>\n",
       "    <tr>\n",
       "      <th>train_val</th>\n",
       "      <td>0.105124</td>\n",
       "      <td>6.680263e-12</td>\n",
       "    </tr>\n",
       "    <tr>\n",
       "      <th>val_test</th>\n",
       "      <td>0.086570</td>\n",
       "      <td>3.854537e-05</td>\n",
       "    </tr>\n",
       "    <tr>\n",
       "      <th>train_test</th>\n",
       "      <td>0.045091</td>\n",
       "      <td>2.095128e-02</td>\n",
       "    </tr>\n",
       "  </tbody>\n",
       "</table>\n",
       "</div>"
      ],
      "text/plain": [
       "            statistic       p_value\n",
       "train_val    0.105124  6.680263e-12\n",
       "val_test     0.086570  3.854537e-05\n",
       "train_test   0.045091  2.095128e-02"
      ]
     },
     "execution_count": 6,
     "metadata": {},
     "output_type": "execute_result"
    }
   ],
   "source": [
    "df"
   ]
  },
  {
   "cell_type": "markdown",
   "id": "9bb126d4",
   "metadata": {},
   "source": [
    "### Bhattacharyya distance"
   ]
  },
  {
   "cell_type": "code",
   "execution_count": 7,
   "id": "b0386bff",
   "metadata": {},
   "outputs": [],
   "source": [
    "def calculate_bhattacharyya():\n",
    "    train_val = bhattacharyya_coefficient(\n",
    "        {i: v for i, v in enumerate(train_labels)},\n",
    "        {i: v for i, v in enumerate(validation_labels)}\n",
    "    )\n",
    "    val_test = bhattacharyya_coefficient(\n",
    "        {i: v for i, v in enumerate(validation_labels)},\n",
    "        {i: v for i, v in enumerate(test_labels)}\n",
    "    )\n",
    "    train_test = bhattacharyya_coefficient(\n",
    "        {i: v for i, v in enumerate(train_labels)},\n",
    "        {i: v for i, v in enumerate(test_labels)}\n",
    "    )\n",
    "    \n",
    "    df = pd.DataFrame.from_dict({\n",
    "        'distance': [train_val, val_test, train_test],\n",
    "    })\n",
    "    df.index = ['train_val', 'val_test', 'train_test']\n",
    "    return df\n",
    "\n",
    "#df = calculate_bhattacharyya()"
   ]
  },
  {
   "cell_type": "code",
   "execution_count": 8,
   "id": "9e7ba399",
   "metadata": {},
   "outputs": [
    {
     "data": {
      "text/html": [
       "<div>\n",
       "<style scoped>\n",
       "    .dataframe tbody tr th:only-of-type {\n",
       "        vertical-align: middle;\n",
       "    }\n",
       "\n",
       "    .dataframe tbody tr th {\n",
       "        vertical-align: top;\n",
       "    }\n",
       "\n",
       "    .dataframe thead th {\n",
       "        text-align: right;\n",
       "    }\n",
       "</style>\n",
       "<table border=\"1\" class=\"dataframe\">\n",
       "  <thead>\n",
       "    <tr style=\"text-align: right;\">\n",
       "      <th></th>\n",
       "      <th>statistic</th>\n",
       "      <th>p_value</th>\n",
       "    </tr>\n",
       "  </thead>\n",
       "  <tbody>\n",
       "    <tr>\n",
       "      <th>train_val</th>\n",
       "      <td>0.105124</td>\n",
       "      <td>6.680263e-12</td>\n",
       "    </tr>\n",
       "    <tr>\n",
       "      <th>val_test</th>\n",
       "      <td>0.086570</td>\n",
       "      <td>3.854537e-05</td>\n",
       "    </tr>\n",
       "    <tr>\n",
       "      <th>train_test</th>\n",
       "      <td>0.045091</td>\n",
       "      <td>2.095128e-02</td>\n",
       "    </tr>\n",
       "  </tbody>\n",
       "</table>\n",
       "</div>"
      ],
      "text/plain": [
       "            statistic       p_value\n",
       "train_val    0.105124  6.680263e-12\n",
       "val_test     0.086570  3.854537e-05\n",
       "train_test   0.045091  2.095128e-02"
      ]
     },
     "execution_count": 8,
     "metadata": {},
     "output_type": "execute_result"
    }
   ],
   "source": [
    "df"
   ]
  }
 ],
 "metadata": {
  "kernelspec": {
   "display_name": "Python 3 (ipykernel)",
   "language": "python",
   "name": "python3"
  },
  "language_info": {
   "codemirror_mode": {
    "name": "ipython",
    "version": 3
   },
   "file_extension": ".py",
   "mimetype": "text/x-python",
   "name": "python",
   "nbconvert_exporter": "python",
   "pygments_lexer": "ipython3",
   "version": "3.9.12"
  }
 },
 "nbformat": 4,
 "nbformat_minor": 5
}
