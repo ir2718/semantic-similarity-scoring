{
 "cells": [
  {
   "cell_type": "code",
   "execution_count": 2,
   "id": "213e5af2",
   "metadata": {},
   "outputs": [
    {
     "ename": "SyntaxError",
     "evalue": "invalid syntax (3442303548.py, line 1)",
     "output_type": "error",
     "traceback": [
      "\u001b[1;36m  File \u001b[1;32m\"C:\\Users\\Ivan\\AppData\\Local\\Temp\\ipykernel_27436\\3442303548.py\"\u001b[1;36m, line \u001b[1;32m1\u001b[0m\n\u001b[1;33m    python --model_name roberta-base\u001b[0m\n\u001b[1;37m                        ^\u001b[0m\n\u001b[1;31mSyntaxError\u001b[0m\u001b[1;31m:\u001b[0m invalid syntax\n"
     ]
    }
   ],
   "source": [
    "python frozen_training.py --model_name roberta-base\n",
    "python frozen_training.py --model_name distilroberta-base\n",
    "python frozen_training.py --model_name distilbert-base-cased\n",
    "python frozen_training.py --model_name xlnet-base-cased\n",
    "python frozen_training.py --model_name t5-small\n",
    "\n",
    "\n",
    "#python frozen_training.py --model_name roberta-large\n",
    "#python frozen_training.py --model_name t5-base\n",
    "#python frozen_training.py --model_name xlnet-large-cased\n",
    "\n",
    "\n",
    "#python frozen_training.py --model_name microsoft/deberta-v3-small\n",
    "#python frozen_training.py --model_name microsoft/deberta-v3-base"
   ]
  },
  {
   "cell_type": "code",
   "execution_count": 3,
   "id": "9c8df963",
   "metadata": {},
   "outputs": [
    {
     "name": "stderr",
     "output_type": "stream",
     "text": [
      "unknown option --model_name\n",
      "usage: python [option] ... [-c cmd | -m mod | file | -] [arg] ...\n",
      "Try `python -h' for more information.\n"
     ]
    }
   ],
   "source": []
  }
 ],
 "metadata": {
  "kernelspec": {
   "display_name": "Python 3 (ipykernel)",
   "language": "python",
   "name": "python3"
  },
  "language_info": {
   "codemirror_mode": {
    "name": "ipython",
    "version": 3
   },
   "file_extension": ".py",
   "mimetype": "text/x-python",
   "name": "python",
   "nbconvert_exporter": "python",
   "pygments_lexer": "ipython3",
   "version": "3.9.15"
  }
 },
 "nbformat": 4,
 "nbformat_minor": 5
}
